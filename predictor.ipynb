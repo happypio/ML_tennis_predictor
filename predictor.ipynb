{
 "cells": [
  {
   "cell_type": "code",
   "execution_count": 1,
   "metadata": {},
   "outputs": [],
   "source": [
    "import pandas as pd\n",
    "import numpy as np\n",
    "from tqdm.auto import tqdm\n",
    "from scipy import stats\n",
    "import matplotlib.pyplot as plt\n",
    "from matplotlib import cm\n",
    "import time\n",
    "\n",
    "import sklearn.preprocessing\n",
    "\n",
    "from sklearn.metrics import accuracy_score\n",
    "from sklearn.pipeline import Pipeline\n",
    "from sklearn.datasets import make_classification\n",
    "from sklearn.decomposition import PCA\n",
    "\n",
    "from sklearn.model_selection import TimeSeriesSplit\n",
    "from sklearn.model_selection import cross_validate\n",
    "from sklearn.model_selection import cross_val_score\n",
    "from sklearn.model_selection import GridSearchCV\n",
    "\n",
    "from sklearn.linear_model import RidgeClassifier, LogisticRegression\n",
    "from xgboost import XGBClassifier\n",
    "from sklearn.svm import SVC\n",
    "from sklearn.naive_bayes import GaussianNB\n",
    "from sklearn.tree import DecisionTreeClassifier\n",
    "from sklearn.neighbors import KNeighborsClassifier\n",
    "from sklearn.discriminant_analysis import QuadraticDiscriminantAnalysis\n",
    "from sklearn.gaussian_process.kernels import RBF\n",
    "from sklearn.gaussian_process import GaussianProcessClassifier\n",
    "from sklearn.neural_network import MLPClassifier\n",
    "from sklearn.linear_model import Lasso\n",
    "\n",
    "from sklearn.ensemble import GradientBoostingClassifier\n",
    "from sklearn.ensemble import RandomForestClassifier\n",
    "from sklearn.ensemble import AdaBoostClassifier"
   ]
  },
  {
   "cell_type": "code",
   "execution_count": 2,
   "metadata": {},
   "outputs": [],
   "source": [
    "# we will substract 3000 rows on beginning\n",
    "data = pd.read_csv(\"atp.csv\")\n",
    "Y = pd.DataFrame(data['target'][3000:]).reset_index(drop=True)\n",
    "X = data.drop(['target'], axis = 1)[3000:].reset_index(drop=True)"
   ]
  },
  {
   "cell_type": "code",
   "execution_count": 3,
   "metadata": {},
   "outputs": [],
   "source": [
    "# delete this year because of covid\n",
    "X_c = X[X['year'] != 2020].reset_index(drop=True)\n",
    "Y_c = Y[X['year'] != 2020].reset_index(drop=True)"
   ]
  },
  {
   "cell_type": "markdown",
   "metadata": {},
   "source": [
    "### scalers"
   ]
  },
  {
   "cell_type": "code",
   "execution_count": 4,
   "metadata": {},
   "outputs": [],
   "source": [
    "standard_scaler = sklearn.preprocessing.StandardScaler()\n",
    "X_std = pd.DataFrame(standard_scaler.fit_transform(X_c), columns = X_c.columns)\n",
    "y = np.asarray(Y_c).ravel()"
   ]
  },
  {
   "cell_type": "markdown",
   "metadata": {},
   "source": [
    "### base models"
   ]
  },
  {
   "cell_type": "code",
   "execution_count": 5,
   "metadata": {},
   "outputs": [],
   "source": [
    "def naive_classifier(column, data, Y):\n",
    "    acc = 0\n",
    "    for ind in data.index:\n",
    "        r0 = data.at[ind, f'{column}_0']\n",
    "        r1 = data.at[ind, f'{column}_1']\n",
    "        if r0 > r1 and Y.at[ind, 'target'] == 0:\n",
    "            acc += 1\n",
    "        if r0 < r1 and Y.at[ind, 'target'] == 1:\n",
    "            acc += 1\n",
    "    return acc/len(data)"
   ]
  },
  {
   "cell_type": "code",
   "execution_count": 6,
   "metadata": {},
   "outputs": [
    {
     "name": "stdout",
     "output_type": "stream",
     "text": [
      "accuracy rank points:  0.6482919254658385\n",
      "accuracy elo points:  0.658987470550439\n"
     ]
    }
   ],
   "source": [
    "print(\"accuracy rank points: \", naive_classifier('rank_points', X_std, Y_c))\n",
    "print(\"accuracy elo points: \", naive_classifier('elo', X_std, Y_c))"
   ]
  },
  {
   "cell_type": "markdown",
   "metadata": {},
   "source": [
    "### cross validation with chronological data"
   ]
  },
  {
   "cell_type": "code",
   "execution_count": 7,
   "metadata": {
    "scrolled": true
   },
   "outputs": [
    {
     "name": "stdout",
     "output_type": "stream",
     "text": [
      "TRAIN: [62204 62205 62206 ... 72201 72202 72203] TEST: [72204 72205 72206 ... 72701 72702 72703]\n",
      "TRAIN: [62704 62705 62706 ... 72701 72702 72703] TEST: [72704 72705 72706 ... 73201 73202 73203]\n",
      "TRAIN: [63204 63205 63206 ... 73201 73202 73203] TEST: [73204 73205 73206 ... 73701 73702 73703]\n",
      "TRAIN: [63704 63705 63706 ... 73701 73702 73703] TEST: [73704 73705 73706 ... 74201 74202 74203]\n",
      "TRAIN: [64204 64205 64206 ... 74201 74202 74203] TEST: [74204 74205 74206 ... 74701 74702 74703]\n"
     ]
    }
   ],
   "source": [
    "ts_cv = TimeSeriesSplit(gap=0, max_train_size=10000, n_splits=5, test_size=500)\n",
    "for train_index, test_index in ts_cv.split(X_std):\n",
    "    np.set_printoptions(threshold=5)\n",
    "    print(\"TRAIN:\", train_index, \"TEST:\", test_index)\n",
    "    X_train, X_test = X_std.iloc[train_index], X_std.iloc[test_index]\n",
    "    y_train, y_test = y[train_index], y[test_index]"
   ]
  },
  {
   "cell_type": "markdown",
   "metadata": {},
   "source": [
    "## try raw models"
   ]
  },
  {
   "cell_type": "code",
   "execution_count": 79,
   "metadata": {},
   "outputs": [],
   "source": [
    "# for tuning purposes we will change ts_cv for this part of code\n",
    "ts_cv = TimeSeriesSplit(gap=0, max_train_size=10000, n_splits=4, test_size=500)\n",
    "classifiers = {\n",
    "    'Ridge Classifier' : RidgeClassifier(),\n",
    "    'Random Forest' : RandomForestClassifier(),\n",
    "    'Gradient Boosting' : GradientBoostingClassifier(),\n",
    "    'Logistic Regression' : LogisticRegression(max_iter=1000),\n",
    "    'XGBoost': XGBClassifier(use_label_encoder=False, eval_metric='rmse'),\n",
    "    'Naive Bayes' : GaussianNB(),\n",
    "    'Decision Tree' : DecisionTreeClassifier(),\n",
    "    'k Nearest Neighbors' : KNeighborsClassifier(),\n",
    "    'AdaBoost' : AdaBoostClassifier(),\n",
    "    'Neural Net' :  MLPClassifier(max_iter=1000),\n",
    "    \"QDA\" : QuadraticDiscriminantAnalysis(),\n",
    "    \"SVM\" : SVC(),\n",
    "    #\"Lasso\" : Lasso()\n",
    "}\n",
    "clf_acc = {}\n",
    "clf_scores = {}"
   ]
  },
  {
   "cell_type": "code",
   "execution_count": 80,
   "metadata": {},
   "outputs": [
    {
     "name": "stdout",
     "output_type": "stream",
     "text": [
      "Evaluating... Ridge Classifier\n",
      "accuracy 0.6460 with a standard deviation of 0.02\n",
      "Evaluating... Random Forest\n",
      "accuracy 0.6320 with a standard deviation of 0.02\n",
      "Evaluating... Gradient Boosting\n",
      "accuracy 0.6440 with a standard deviation of 0.02\n",
      "Evaluating... Logistic Regression\n",
      "accuracy 0.6435 with a standard deviation of 0.02\n",
      "Evaluating... XGBoost\n",
      "accuracy 0.5985 with a standard deviation of 0.01\n",
      "Evaluating... Naive Bayes\n",
      "accuracy 0.6360 with a standard deviation of 0.01\n",
      "Evaluating... Decision Tree\n",
      "accuracy 0.5510 with a standard deviation of 0.02\n",
      "Evaluating... k Nearest Neighbors\n",
      "accuracy 0.5705 with a standard deviation of 0.01\n",
      "Evaluating... AdaBoost\n",
      "accuracy 0.6250 with a standard deviation of 0.02\n",
      "Evaluating... Neural Net\n",
      "accuracy 0.5655 with a standard deviation of 0.02\n",
      "Evaluating... QDA\n",
      "accuracy 0.6025 with a standard deviation of 0.03\n",
      "Evaluating... SVM\n",
      "accuracy 0.6405 with a standard deviation of 0.01\n"
     ]
    }
   ],
   "source": [
    "for name, classifier in classifiers.items():\n",
    "    print(\"Evaluating...\",name)\n",
    "    scores = cross_val_score(classifier, X_std, y, cv=ts_cv, n_jobs=-1)\n",
    "    clf_scores[name] = scores\n",
    "    print(f'accuracy {scores.mean():.4f} with a standard deviation of {scores.std():.2f}')\n",
    "    clf_acc[name] = scores.mean()"
   ]
  },
  {
   "cell_type": "markdown",
   "metadata": {},
   "source": [
    "# PCA and intuitions"
   ]
  },
  {
   "cell_type": "code",
   "execution_count": 12,
   "metadata": {},
   "outputs": [],
   "source": [
    "def plot_pca_spectrum(X, search):\n",
    "    print(\"Best n parameter pca : %d (CV mean score=%0.3f):\" % (search.best_estimator_.named_steps[\"pca\"].n_components, search.best_score_))\n",
    "    # Plot the PCA spectrum\n",
    "    pca = PCA()\n",
    "    pca.fit(X)\n",
    "\n",
    "    fig, (ax0, ax1) = plt.subplots(nrows=2, sharex=True, figsize=(6, 6))\n",
    "    \n",
    "    ax0.plot(\n",
    "        np.arange(1, pca.n_components_ + 1), pca.explained_variance_ratio_, \"+\", linewidth=2\n",
    "    )\n",
    "    ax0.set_ylabel(\"PCA explained variance ratio\")\n",
    "\n",
    "    ax0.axvline(\n",
    "        search.best_estimator_.named_steps[\"pca\"].n_components,\n",
    "        linestyle=\":\",\n",
    "        label=\"n_components chosen\",\n",
    "    )\n",
    "    ax0.legend(prop=dict(size=12))\n",
    "\n",
    "    # For each number of components, find the best classifier results\n",
    "    results = pd.DataFrame(search.cv_results_)\n",
    "    components_col = \"param_pca__n_components\"\n",
    "    best_clfs = results.groupby(components_col).apply(\n",
    "        lambda g: g.nlargest(1, \"mean_test_score\")\n",
    "    )\n",
    "\n",
    "    best_clfs.plot(\n",
    "        x=components_col, y=\"mean_test_score\", yerr=\"std_test_score\", legend=False, ax=ax1\n",
    "    )\n",
    "    ax1.plot(\n",
    "        \n",
    "    )\n",
    "    ax1.set_ylabel(\"Classification accuracy (val)\")\n",
    "    ax1.set_xlabel(\"n_components\")\n",
    "\n",
    "    plt.xlim(-1, pca.n_components_ + 1)\n",
    "\n",
    "    plt.tight_layout()\n",
    "    plt.show()"
   ]
  },
  {
   "cell_type": "markdown",
   "metadata": {},
   "source": [
    "### Logistic Regression"
   ]
  },
  {
   "cell_type": "code",
   "execution_count": 14,
   "metadata": {},
   "outputs": [
    {
     "name": "stdout",
     "output_type": "stream",
     "text": [
      "Fitting 4 folds for each of 18 candidates, totalling 72 fits\n",
      "Best n parameter pca : 150 (CV mean score=0.657):\n"
     ]
    },
    {
     "data": {
      "image/png": "[encoded data removed]",
      "text/plain": [
       "<Figure size 432x432 with 2 Axes>"
      ]
     },
     "metadata": {
      "needs_background": "light"
     },
     "output_type": "display_data"
    }
   ],
   "source": [
    "pca = PCA()\n",
    "classifier = LogisticRegression(max_iter=1000)\n",
    "pipe = Pipeline([(\"pca\", pca), (\"classifier\", classifier)])\n",
    "param_grid = {\n",
    "    \"pca__n_components\": [2,5,10,15,20,30,40,50,70,90,110,130,150,180,200,220,250,258]\n",
    "}\n",
    "search = GridSearchCV(pipe, param_grid, n_jobs=-1, verbose=2, cv = ts_cv)\n",
    "search.fit(X_std, y)\n",
    "\n",
    "plot_pca_spectrum(X_std, search)"
   ]
  },
  {
   "cell_type": "markdown",
   "metadata": {},
   "source": [
    "### K nearest neighb"
   ]
  },
  {
   "cell_type": "code",
   "execution_count": 19,
   "metadata": {},
   "outputs": [
    {
     "name": "stdout",
     "output_type": "stream",
     "text": [
      "Fitting 4 folds for each of 14 candidates, totalling 56 fits\n",
      "Best n parameter pca : 5 (CV mean score=0.586):\n"
     ]
    },
    {
     "data": {
      "image/png": "[encoded data removed]",
      "text/plain": [
       "<Figure size 432x432 with 2 Axes>"
      ]
     },
     "metadata": {
      "needs_background": "light"
     },
     "output_type": "display_data"
    }
   ],
   "source": [
    "pca = PCA()\n",
    "classifier = KNeighborsClassifier()\n",
    "pipe = Pipeline([(\"pca\", pca), (\"classifier\", classifier)])\n",
    "param_grid = {\n",
    "    \"pca__n_components\" : [2,5,10,25,40,50,70,100,130,150,180,200,220,250]\n",
    "}\n",
    "search = GridSearchCV(pipe, param_grid, n_jobs=2, verbose=2, cv = ts_cv)\n",
    "search.fit(X_std, y)\n",
    "\n",
    "plot_pca_spectrum(X_std, search)"
   ]
  },
  {
   "cell_type": "markdown",
   "metadata": {},
   "source": [
    "### Ridge Classifier"
   ]
  },
  {
   "cell_type": "code",
   "execution_count": 18,
   "metadata": {},
   "outputs": [
    {
     "name": "stdout",
     "output_type": "stream",
     "text": [
      "Fitting 4 folds for each of 17 candidates, totalling 68 fits\n",
      "Best n parameter pca : 150 (CV mean score=0.656):\n"
     ]
    },
    {
     "data": {
      "image/png": "[encoded data removed]",
      "text/plain": [
       "<Figure size 432x432 with 2 Axes>"
      ]
     },
     "metadata": {
      "needs_background": "light"
     },
     "output_type": "display_data"
    }
   ],
   "source": [
    "pca = PCA()\n",
    "classifier = RidgeClassifier()\n",
    "pipe = Pipeline([(\"pca\", pca), (\"classifier\", classifier)])\n",
    "param_grid = {\n",
    "    \"pca__n_components\": [2,5,10,15,20,30,40,50,70,90,110,130,150,180,200,220,250]\n",
    "}\n",
    "search = GridSearchCV(pipe, param_grid, n_jobs=-1, verbose=2, cv = ts_cv)\n",
    "search.fit(X_std, y)\n",
    "\n",
    "plot_pca_spectrum(X_std, search)"
   ]
  },
  {
   "cell_type": "markdown",
   "metadata": {},
   "source": [
    "# Hyperparameter tuning"
   ]
  },
  {
   "cell_type": "markdown",
   "metadata": {},
   "source": [
    "Tree based classifiers are sensitive to data rotation. After experiments, we concluded it would be better not to apply PCA to our Tree classifiers."
   ]
  },
  {
   "cell_type": "code",
   "execution_count": 33,
   "metadata": {},
   "outputs": [],
   "source": [
    "tuned_clf = {}\n",
    "best_parameters = {}\n",
    "hyper_param = {}\n",
    "def tune_hyperparameters(X, Y, param, pipe, n_jobs_=-1, verbose_=2):\n",
    "    search = GridSearchCV(pipe, param, n_jobs=n_jobs_, verbose=verbose_, cv = ts_cv)\n",
    "    search.fit(X,Y)\n",
    "    return search\n",
    "def analyse_params(name, classifier):\n",
    "    print(name, \"tuning... \", end='')\n",
    "    pipe, param,n_jobs = hyper_param[name]\n",
    "    start_time = time.time()\n",
    "    search = tune_hyperparameters(X_std, y, param, pipe, n_jobs_=n_jobs)\n",
    "    print(f'{time.time() - start_time:.3f} seconds')\n",
    "    print(f\"new score: {search.best_score_:.4f}  |  old score: {clf_acc[name]}  |   params: {search.best_params_}\\n\")\n",
    "    tuned_clf[name] = search.best_estimator_\n",
    "    best_parameters[name] = search.best_params_\n",
    "    #clf_acc[name] = search.best_score_"
   ]
  },
  {
   "cell_type": "code",
   "execution_count": 35,
   "metadata": {},
   "outputs": [
    {
     "name": "stdout",
     "output_type": "stream",
     "text": [
      "Ridge Classifier tuning... Fitting 4 folds for each of 27 candidates, totalling 108 fits\n",
      "24.538 seconds\n",
      "new score: 0.6575  |  old score: 0.646  |   params: {'classifier__alpha': 13.0, 'pca__n_components': 180}\n",
      "\n"
     ]
    }
   ],
   "source": [
    "#Ridge Classifier\n",
    "n_jobs=-1\n",
    "pca = PCA()\n",
    "classifier = RidgeClassifier()\n",
    "pipe = Pipeline([(\"pca\", pca), (\"classifier\", classifier)])\n",
    "param = {\n",
    "    \"pca__n_components\": [140,150,160,180,190,200,210,220,222],\n",
    "    \"classifier__alpha\": [8.0,10.0,13.0]\n",
    "}\n",
    "hyper_param['Ridge Classifier'] = (pipe, param,n_jobs)\n",
    "analyse_params('Ridge Classifier', classifiers['Ridge Classifier'])"
   ]
  },
  {
   "cell_type": "code",
   "execution_count": 43,
   "metadata": {},
   "outputs": [
    {
     "name": "stdout",
     "output_type": "stream",
     "text": [
      "Random Forest tuning... Fitting 4 folds for each of 4 candidates, totalling 16 fits\n",
      "36.015 seconds\n",
      "new score: 0.6360  |  old score: 0.625  |   params: {'classifier__max_features': 6, 'classifier__n_estimators': 100}\n",
      "\n"
     ]
    }
   ],
   "source": [
    "#Random Forest\n",
    "n_jobs=-1\n",
    "classifier = RandomForestClassifier()\n",
    "pipe = Pipeline([(\"classifier\", classifier)])\n",
    "param = {\n",
    "    \"classifier__n_estimators\" : [100],\n",
    "    \"classifier__max_features\" : [6,8,10,12]\n",
    "}\n",
    "hyper_param['Random Forest'] = (pipe, param,n_jobs)\n",
    "analyse_params('Random Forest', classifiers['Random Forest'])"
   ]
  },
  {
   "cell_type": "code",
   "execution_count": 68,
   "metadata": {},
   "outputs": [
    {
     "name": "stdout",
     "output_type": "stream",
     "text": [
      "Gradient Boosting tuning... Fitting 4 folds for each of 12 candidates, totalling 48 fits\n",
      "913.682 seconds\n",
      "new score: 0.6560  |  old score: 0.645  |   params: {'classifier__learning_rate': 0.05, 'classifier__max_depth': 7, 'classifier__n_estimators': 100, 'classifier__subsample': 1.0}\n",
      "\n"
     ]
    }
   ],
   "source": [
    "#Gradient Boosting\n",
    "n_jobs = -1\n",
    "classifier = GradientBoostingClassifier()\n",
    "pipe = Pipeline([(\"classifier\", classifier)])\n",
    "param = {\n",
    "    \"classifier__n_estimators\" : [100],\n",
    "    \"classifier__learning_rate\" : [0.05, 0.1, 0.15],\n",
    "    \"classifier__subsample\" : [0.7, 1.0],\n",
    "    \"classifier__max_depth\" : [3, 7]\n",
    "}\n",
    "hyper_param['Gradient Boosting'] = (pipe, param,n_jobs)\n",
    "analyse_params('Gradient Boosting', classifiers['Gradient Boosting'])"
   ]
  },
  {
   "cell_type": "code",
   "execution_count": 45,
   "metadata": {},
   "outputs": [
    {
     "name": "stdout",
     "output_type": "stream",
     "text": [
      "Logistic Regression tuning... Fitting 4 folds for each of 35 candidates, totalling 140 fits\n",
      "22.404 seconds\n",
      "new score: 0.6605  |  old score: 0.6435000000000001  |   params: {'classifier__C': 0.1, 'pca__n_components': 70}\n",
      "\n"
     ]
    }
   ],
   "source": [
    "#Logistic Regression\n",
    "n_jobs=-1\n",
    "pca = PCA()\n",
    "classifier = LogisticRegression(max_iter=1000)\n",
    "pipe = Pipeline([(\"pca\", pca), (\"classifier\", classifier)])\n",
    "param = {\n",
    "    \"pca__n_components\": [50,60,70,90,130],\n",
    "    \"classifier__C\" : [10, 1.0, 0.5, 0.4, 0.3, 0.1, 0.05]\n",
    "}\n",
    "hyper_param['Logistic Regression'] = (pipe, param,n_jobs)\n",
    "analyse_params('Logistic Regression', classifiers['Logistic Regression'])"
   ]
  },
  {
   "cell_type": "code",
   "execution_count": 69,
   "metadata": {},
   "outputs": [
    {
     "name": "stdout",
     "output_type": "stream",
     "text": [
      "XGBoost tuning... Fitting 4 folds for each of 12 candidates, totalling 48 fits\n",
      "2460.957 seconds\n",
      "new score: 0.6210  |  old score: 0.5985  |   params: {'classifier__learning_rate': 0.6, 'classifier__max_depth': 6, 'classifier__min_child_weight': 1, 'classifier__n_estimators': 100}\n",
      "\n"
     ]
    }
   ],
   "source": [
    "#XGBoost\n",
    "n_jobs = -1\n",
    "classifier = XGBClassifier(use_label_encoder=False, eval_metric='rmse')\n",
    "pipe = Pipeline([(\"classifier\", classifier)])\n",
    "param = {\n",
    "    'classifier__n_estimators': [100],\n",
    "    'classifier__max_depth': [6],\n",
    "    'classifier__learning_rate': [0.3, 0.4, 0.6],\n",
    "    'classifier__min_child_weight': [0.1, 0.5, 1, 10]\n",
    "}\n",
    "hyper_param['XGBoost'] = (pipe, param,n_jobs)\n",
    "analyse_params('XGBoost', classifiers['XGBoost'])"
   ]
  },
  {
   "cell_type": "code",
   "execution_count": 58,
   "metadata": {},
   "outputs": [
    {
     "name": "stdout",
     "output_type": "stream",
     "text": [
      "Naive Bayes tuning... Fitting 4 folds for each of 60 candidates, totalling 240 fits\n",
      "31.483 seconds\n",
      "new score: 0.6405  |  old score: 0.636  |   params: {'classifier__var_smoothing': 0.0379269019073225, 'pca__n_components': 90}\n",
      "\n"
     ]
    }
   ],
   "source": [
    "#Naive Bayes\n",
    "n_jobs=-1\n",
    "pca = PCA()\n",
    "classifier = GaussianNB()\n",
    "pipe = Pipeline([('pca', pca), (\"classifier\", classifier)])\n",
    "param = {\n",
    "    \"pca__n_components\": [90,100,110],\n",
    "    'classifier__var_smoothing': np.logspace(0,-9, num=20)\n",
    "}\n",
    "hyper_param['Naive Bayes'] = (pipe, param,n_jobs)\n",
    "analyse_params('Naive Bayes', classifiers['Naive Bayes'])"
   ]
  },
  {
   "cell_type": "code",
   "execution_count": 59,
   "metadata": {},
   "outputs": [
    {
     "name": "stdout",
     "output_type": "stream",
     "text": [
      "Decision Tree tuning... Fitting 4 folds for each of 60 candidates, totalling 240 fits\n",
      "58.917 seconds\n",
      "new score: 0.6025  |  old score: 0.5525  |   params: {'classifier__criterion': 'entropy', 'classifier__max_depth': 10, 'classifier__min_samples_leaf': 3}\n",
      "\n"
     ]
    }
   ],
   "source": [
    "#Decision Tree\n",
    "n_jobs=-1\n",
    "classifier = DecisionTreeClassifier()\n",
    "pipe = Pipeline([(\"classifier\", classifier)])\n",
    "param = {\n",
    "    'classifier__max_depth': [2, 3, 10, 20, 30],\n",
    "    'classifier__min_samples_leaf': [2, 3, 5, 10, 15, 20],\n",
    "    'classifier__criterion': [\"gini\", \"entropy\"]\n",
    "}\n",
    "hyper_param['Decision Tree'] = (pipe, param,n_jobs)\n",
    "analyse_params('Decision Tree', classifiers['Decision Tree'])"
   ]
  },
  {
   "cell_type": "code",
   "execution_count": 60,
   "metadata": {},
   "outputs": [
    {
     "name": "stdout",
     "output_type": "stream",
     "text": [
      "k Nearest Neighbors tuning... Fitting 4 folds for each of 180 candidates, totalling 720 fits\n",
      "179.791 seconds\n",
      "new score: 0.6290  |  old score: 0.5705  |   params: {'classifier__metric': 'minkowski', 'classifier__n_neighbors': 80, 'classifier__weights': 'distance', 'pca__n_components': 70}\n",
      "\n"
     ]
    }
   ],
   "source": [
    "#K Nearest Neighbors\n",
    "n_jobs = 3\n",
    "pca = PCA()\n",
    "classifier = KNeighborsClassifier()\n",
    "pipe = Pipeline([(\"pca\", pca), (\"classifier\", classifier)])\n",
    "param = {\n",
    "    \"pca__n_components\": [10,30,70,130,220],\n",
    "    \"classifier__weights\" : ['uniform', 'distance'],\n",
    "    \"classifier__metric\" : ['euclidean', 'manhattan', 'minkowski'],\n",
    "    \"classifier__n_neighbors\" : [70,80,90,100]\n",
    "}\n",
    "hyper_param['k Nearest Neighbors'] = (pipe, param,n_jobs)\n",
    "analyse_params('k Nearest Neighbors', classifiers['k Nearest Neighbors'])"
   ]
  },
  {
   "cell_type": "code",
   "execution_count": 70,
   "metadata": {},
   "outputs": [
    {
     "name": "stdout",
     "output_type": "stream",
     "text": [
      "AdaBoost tuning... Fitting 4 folds for each of 18 candidates, totalling 72 fits\n",
      "741.150 seconds\n",
      "new score: 0.6440  |  old score: 0.625  |   params: {'classifier__learning_rate': 0.1, 'classifier__n_estimators': 500}\n",
      "\n"
     ]
    }
   ],
   "source": [
    "#AdaBoost\n",
    "n_jobs = -1\n",
    "classifier = AdaBoostClassifier()\n",
    "pipe = Pipeline([(\"classifier\", classifier)])\n",
    "param = {\n",
    "    'classifier__n_estimators' : [50,100,500],\n",
    "    'classifier__learning_rate' : [0.0001, 0.001, 0.01, 0.1, 1.0,1.5]\n",
    "}\n",
    "hyper_param['AdaBoost'] = (pipe, param,n_jobs)\n",
    "analyse_params('AdaBoost', classifiers['AdaBoost'])"
   ]
  },
  {
   "cell_type": "code",
   "execution_count": 71,
   "metadata": {},
   "outputs": [
    {
     "name": "stdout",
     "output_type": "stream",
     "text": [
      "Neural Net tuning... Fitting 4 folds for each of 16 candidates, totalling 64 fits\n",
      "1728.437 seconds\n",
      "new score: 0.5925  |  old score: 0.5745  |   params: {'classifier__activation': 'tanh', 'classifier__alpha': 0.0001, 'classifier__learning_rate': 'adaptive', 'classifier__solver': 'adam'}\n",
      "\n"
     ]
    }
   ],
   "source": [
    "#Neural Net\n",
    "n_jobs = -1\n",
    "pca = PCA()\n",
    "classifier = MLPClassifier(max_iter=1000)\n",
    "pipe = Pipeline([(\"pca\", pca), (\"classifier\", classifier)])\n",
    "param = {\n",
    "    #\"pca__n_components\": [222],\n",
    "    'classifier__activation': ['tanh', 'relu'],\n",
    "    'classifier__solver': ['sgd', 'adam'],\n",
    "    'classifier__alpha': [0.0001, 0.05],\n",
    "    'classifier__learning_rate': ['constant','adaptive']\n",
    "}\n",
    "hyper_param['Neural Net'] = (pipe, param,n_jobs)\n",
    "analyse_params('Neural Net', classifiers['Neural Net'])"
   ]
  },
  {
   "cell_type": "code",
   "execution_count": 74,
   "metadata": {},
   "outputs": [
    {
     "name": "stdout",
     "output_type": "stream",
     "text": [
      "Neural Net tuning... Fitting 4 folds for each of 1 candidates, totalling 4 fits\n",
      "1572.477 seconds\n",
      "new score: 0.5880  |  old score: 0.5745  |   params: {'classifier__activation': 'tanh', 'classifier__alpha': 0.0001, 'classifier__learning_rate': 'adaptive', 'classifier__solver': 'adam'}\n",
      "\n"
     ]
    },
    {
     "name": "stderr",
     "output_type": "stream",
     "text": [
      "/home/piopie/anaconda3/lib/python3.8/site-packages/sklearn/neural_network/_multilayer_perceptron.py:692: ConvergenceWarning: Stochastic Optimizer: Maximum iterations (1000) reached and the optimization hasn't converged yet.\n",
      "  warnings.warn(\n"
     ]
    }
   ],
   "source": [
    "#Neural Net\n",
    "n_jobs = -1\n",
    "classifier = MLPClassifier(max_iter=1000)\n",
    "pipe = Pipeline([(\"classifier\", classifier)])\n",
    "param = {\n",
    "    #\"pca__n_components\": [222],\n",
    "    'classifier__activation': ['tanh'],\n",
    "    'classifier__solver': ['adam'],\n",
    "    'classifier__alpha': [0.0001],\n",
    "    'classifier__learning_rate': ['adaptive']\n",
    "}\n",
    "hyper_param['Neural Net'] = (pipe, param,n_jobs)\n",
    "analyse_params('Neural Net', classifiers['Neural Net'])"
   ]
  },
  {
   "cell_type": "code",
   "execution_count": 67,
   "metadata": {},
   "outputs": [
    {
     "name": "stdout",
     "output_type": "stream",
     "text": [
      "QDA tuning... Fitting 4 folds for each of 9 candidates, totalling 36 fits\n",
      "14.551 seconds\n",
      "new score: 0.6375  |  old score: 0.6025  |   params: {'classifier__reg_param': 0.5, 'pca__n_components': 150}\n",
      "\n"
     ]
    }
   ],
   "source": [
    "#QDA\n",
    "n_jobs = -1\n",
    "classifier = QuadraticDiscriminantAnalysis()\n",
    "pipe = Pipeline([(\"pca\", pca), (\"classifier\", classifier)])\n",
    "param = {\n",
    "    \"pca__n_components\": [100, 150, 200],\n",
    "    'classifier__reg_param': [0.1, 0.5, 0.7]\n",
    "}\n",
    "hyper_param['QDA'] = (pipe, param,n_jobs)\n",
    "analyse_params('QDA', classifiers['QDA'])"
   ]
  },
  {
   "cell_type": "code",
   "execution_count": 72,
   "metadata": {},
   "outputs": [
    {
     "name": "stdout",
     "output_type": "stream",
     "text": [
      "SVM tuning... Fitting 4 folds for each of 15 candidates, totalling 60 fits\n",
      "1913.657 seconds\n",
      "new score: 0.6405  |  old score: 0.6405  |   params: {'classifier__C': 1.0, 'classifier__gamma': 'scale', 'classifier__kernel': 'rbf'}\n",
      "\n"
     ]
    }
   ],
   "source": [
    "#SVM\n",
    "n_jobs = -1\n",
    "classifier = SVC()\n",
    "pipe = Pipeline([(\"classifier\", classifier)])\n",
    "param = {\n",
    "    \"classifier__kernel\" : ['poly', 'rbf', 'sigmoid'],\n",
    "    \"classifier__C\" : [50, 10, 1.0, 0.1, 0.01],\n",
    "    \"classifier__gamma\" : ['scale']\n",
    "}\n",
    "hyper_param['SVM'] = (pipe, param,n_jobs)\n",
    "analyse_params('SVM', classifiers['SVM'])"
   ]
  },
  {
   "cell_type": "code",
   "execution_count": 78,
   "metadata": {},
   "outputs": [],
   "source": [
    "# saved tuned models\n",
    "best_models = {\n",
    "    'Ridge Classifier' : Pipeline(steps=[('pca', PCA(n_components=180)),\n",
    "                ('classifier', RidgeClassifier(alpha=13.0))]),\n",
    "    \n",
    "    'Random Forest' : RandomForestClassifier(max_features=6),\n",
    "    \n",
    "    'Gradient Boosting' : GradientBoostingClassifier(learning_rate=0.05, max_depth=7),\n",
    "    \n",
    "    'Logistic Regression' : Pipeline(steps=[('pca', PCA(n_components=70)),\n",
    "                ('classifier', LogisticRegression(C=0.1, max_iter=1000))]),\n",
    "    \n",
    "    'XGBoost': XGBClassifier(use_label_encoder=False, eval_metric='rmse', learning_rate = 0.6, max_depth = 6, min_child_weight = 1, n_estimators = 100),\n",
    "    \n",
    "    'Naive Bayes' : Pipeline(steps=[('pca', PCA(n_components=90)), ('classifier', GaussianNB(var_smoothing = 0.0379))]),\n",
    "    \n",
    "    'Decision Tree' : DecisionTreeClassifier(criterion='entropy', max_depth=10, min_samples_leaf=3),\n",
    "    \n",
    "    'k Nearest Neighbors' : Pipeline(steps=[('pca', PCA(n_components=70)),\n",
    "                ('classifier',\n",
    "                 KNeighborsClassifier(metric='minkowski', n_neighbors=80,\n",
    "                                      weights='distance'))]),\n",
    "    \n",
    "    'AdaBoost' :  Pipeline(steps=[('classifier', AdaBoostClassifier(n_estimators=500, learning_rate = 0.1))]),\n",
    "    \n",
    "    'Neural Net' :  Pipeline(steps=[('pca', PCA()),\n",
    "                ('classifier', MLPClassifier(max_iter=1000, activation = 'tanh', \n",
    "                                alpha = 0.0001, learning_rate = 'adaptive', solver = 'adam'))]),\n",
    "    \n",
    "    \"QDA\" : Pipeline(steps=[('pca', PCA(n_components=70)), ('classifier', QuadraticDiscriminantAnalysis(reg_param=0.5))]),\n",
    "    \n",
    "    \"SVM\" : Pipeline(steps=[('classifier', SVC(C=1.0, kernel='rbf'))]),\n",
    "}"
   ]
  },
  {
   "cell_type": "code",
   "execution_count": 81,
   "metadata": {
    "scrolled": false
   },
   "outputs": [
    {
     "name": "stdout",
     "output_type": "stream",
     "text": [
      "Evaluating... Ridge Classifier\n",
      "old accuracy: 0.646\n",
      "accuracy 0.6545 with a standard deviation of 0.02\n",
      "Evaluating... Random Forest\n",
      "old accuracy: 0.632\n",
      "accuracy 0.6290 with a standard deviation of 0.02\n",
      "Evaluating... Gradient Boosting\n",
      "old accuracy: 0.644\n",
      "accuracy 0.6500 with a standard deviation of 0.02\n",
      "Evaluating... Logistic Regression\n",
      "old accuracy: 0.6435000000000001\n",
      "accuracy 0.6595 with a standard deviation of 0.02\n",
      "Evaluating... XGBoost\n",
      "old accuracy: 0.5985\n",
      "accuracy 0.6210 with a standard deviation of 0.01\n",
      "Evaluating... Naive Bayes\n",
      "old accuracy: 0.636\n",
      "accuracy 0.6420 with a standard deviation of 0.02\n",
      "Evaluating... Decision Tree\n",
      "old accuracy: 0.551\n",
      "accuracy 0.5995 with a standard deviation of 0.01\n",
      "Evaluating... k Nearest Neighbors\n",
      "old accuracy: 0.5705\n",
      "accuracy 0.6250 with a standard deviation of 0.04\n",
      "Evaluating... AdaBoost\n",
      "old accuracy: 0.625\n",
      "accuracy 0.6440 with a standard deviation of 0.02\n",
      "Evaluating... Neural Net\n",
      "old accuracy: 0.5655\n",
      "accuracy 0.5735 with a standard deviation of 0.01\n",
      "Evaluating... QDA\n",
      "old accuracy: 0.6025\n",
      "accuracy 0.6355 with a standard deviation of 0.02\n",
      "Evaluating... SVM\n",
      "old accuracy: 0.6405\n",
      "accuracy 0.6405 with a standard deviation of 0.01\n"
     ]
    }
   ],
   "source": [
    "clf_acc_tuned = {}\n",
    "clf_scores_tuned = {}\n",
    "for name, classifier in best_models.items():\n",
    "    print(\"Evaluating...\",name)\n",
    "    scores = cross_val_score(classifier, X_std, y, cv=ts_cv, n_jobs=-1)\n",
    "    clf_scores_tuned[name] = scores\n",
    "    print(f'old accuracy: {clf_acc[name]}')\n",
    "    print(f'accuracy {scores.mean():.4f} with a standard deviation of {scores.std():.2f}')\n",
    "    clf_acc_tuned[name] = scores.mean()"
   ]
  },
  {
   "cell_type": "markdown",
   "metadata": {},
   "source": [
    "## Model Correlation"
   ]
  },
  {
   "cell_type": "code",
   "execution_count": 84,
   "metadata": {},
   "outputs": [],
   "source": [
    "# find correlation of models predictions\n",
    "preds = {}\n",
    "for name,clf in best_models.items():\n",
    "    clf.fit(X_std[-20000:-10000], y[-20000:-10000])\n",
    "    pred = clf.predict(X_std[-20000:-10000])\n",
    "    preds[name] = pred\n",
    "preds_df = pd.DataFrame(preds)"
   ]
  },
  {
   "cell_type": "code",
   "execution_count": 85,
   "metadata": {},
   "outputs": [
    {
     "data": {
      "image/png": "[encoded data removed]",
      "text/plain": [
       "<Figure size 864x648 with 2 Axes>"
      ]
     },
     "metadata": {
      "needs_background": "light"
     },
     "output_type": "display_data"
    }
   ],
   "source": [
    "f = plt.figure(figsize=(12,9))\n",
    "plt.matshow(preds_df.corr(), fignum=f.number)\n",
    "plt.xticks(range(0, preds_df.columns.shape[0]), preds_df.columns, fontsize=14, rotation=90)\n",
    "plt.yticks(range(0, preds_df.columns.shape[0]), preds_df.columns, fontsize=14)\n",
    "cb = plt.colorbar()"
   ]
  },
  {
   "cell_type": "markdown",
   "metadata": {},
   "source": [
    "# Stacking"
   ]
  },
  {
   "cell_type": "markdown",
   "metadata": {},
   "source": [
    "We will perform 2 stackings:  on all models and the least correlated models.\n",
    "\n",
    "     Ridge Classifier, Logistic Regression, Naive Bayes, KNN, Neural Net, AdaBoost, Decision Tree, XGBoost\n",
    "     \n",
    "We will cross validate Stacking with 4 folds:\n",
    "\n",
    "    10% of fold validation\n",
    "    2/3 of remaining fold for base models training\n",
    "    1/3 of remaining fold for meta model training"
   ]
  },
  {
   "cell_type": "code",
   "execution_count": 102,
   "metadata": {},
   "outputs": [
    {
     "name": "stdout",
     "output_type": "stream",
     "text": [
      "\n"
     ]
    }
   ],
   "source": [
    "ts_cv = TimeSeriesSplit(gap=0, max_train_size=20000, n_splits=4, test_size=2000)\n",
    "folds = []\n",
    "for train_index, test_index in ts_cv.split(X_std):\n",
    "    X_fold = X_std.iloc[np.hstack((train_index, test_index))]\n",
    "    y_fold = y[np.hstack((train_index, test_index))]\n",
    "    folds.append((X_fold, y_fold))\n",
    "print()"
   ]
  },
  {
   "cell_type": "code",
   "execution_count": 104,
   "metadata": {},
   "outputs": [],
   "source": [
    "meta_model = XGBClassifier(use_label_encoder=False, eval_metric='rmse')\n",
    "base_models_1 = {\n",
    "    'Ridge Classifier' : best_models['Ridge Classifier'],\n",
    "    'Random Forest' : best_models['Random Forest'],\n",
    "    'Gradient Boosting' : best_models['Gradient Boosting'],\n",
    "    'Logistic Regression' : best_models['Logistic Regression'],\n",
    "    'XGBoost': best_models['XGBoost'],\n",
    "    'Naive Bayes' : best_models['Naive Bayes'],\n",
    "    'Decision Tree' : best_models['Decision Tree'],\n",
    "    'k Nearest Neighbors' : best_models['k Nearest Neighbors'],\n",
    "    'AdaBoost' : best_models['AdaBoost'],\n",
    "    'Neural Net' :  best_models['Neural Net'],\n",
    "    \"QDA\" : best_models['QDA'],\n",
    "    \"SVM\" : best_models['SVM'],\n",
    "}"
   ]
  },
  {
   "cell_type": "code",
   "execution_count": 105,
   "metadata": {},
   "outputs": [],
   "source": [
    "base_models_2 = {\n",
    "    'Logistic Regression' : best_models['Logistic Regression'],\n",
    "    'Ridge Classifier' : best_models['Ridge Classifier'],\n",
    "    'Gradient Boosting' : best_models['Gradient Boosting'],\n",
    "    'Naive Bayes' : best_models['Naive Bayes'],\n",
    "    'AdaBoost' : best_models['AdaBoost'],\n",
    "    \"QDA\" : best_models['QDA'],\n",
    "    \"SVM\" : best_models['SVM'],\n",
    "}"
   ]
  },
  {
   "cell_type": "code",
   "execution_count": 106,
   "metadata": {},
   "outputs": [],
   "source": [
    "base_models_prob_1 = {\n",
    "    'Logistic Regression' : best_models['Logistic Regression'],\n",
    "    'Random Forest' : best_models['Random Forest'],\n",
    "    'Gradient Boosting' : best_models['Gradient Boosting'],\n",
    "    'XGBoost': best_models['XGBoost'],\n",
    "    'Naive Bayes' : best_models['Naive Bayes'],\n",
    "    'k Nearest Neighbors' : best_models['k Nearest Neighbors'],\n",
    "    'AdaBoost' : best_models['AdaBoost'],\n",
    "    \"QDA\" : best_models['QDA'],\n",
    "    \"SVM\" : SVC(C=1.0, kernel='rbf', probability=True)\n",
    "}"
   ]
  },
  {
   "cell_type": "code",
   "execution_count": 107,
   "metadata": {},
   "outputs": [],
   "source": [
    "base_models_prob_2 = {\n",
    "    'Logistic Regression' : best_models['Logistic Regression'],\n",
    "    'Gradient Boosting' : best_models['Gradient Boosting'],\n",
    "    'Naive Bayes' : best_models['Naive Bayes'],\n",
    "    'AdaBoost' : best_models['AdaBoost'],\n",
    "    \"QDA\" : best_models['QDA'],\n",
    "    \"SVM\" : SVC(C=1.0, kernel='rbf', probability=True)\n",
    "}"
   ]
  },
  {
   "cell_type": "code",
   "execution_count": 108,
   "metadata": {},
   "outputs": [],
   "source": [
    "def fold_scoring(X, y, meta_model, base_models, return_meta_args=False, probabilities=False):\n",
    "    # accuracy of models\n",
    "    df_acc = pd.DataFrame(columns=base_models.keys()) # Columns of DF will accord with base_dict keys\n",
    "    \n",
    "    # model predictions for the meta model\n",
    "    train_predictions = {}\n",
    "    val_predictions = {}\n",
    "    \n",
    "    # Split the data length into 2/3 base-training data and 1/3 meta-training data\n",
    "    \n",
    "    n_valid = round(X.shape[0] * 0.1)\n",
    "    n_models = X.shape[0] - n_valid # n_valid is given as per above\n",
    "    n_meta = round(n_models/3) # data size for meta model\n",
    "    n_base = n_models - n_meta # data size for base models\n",
    "    \n",
    "    X_base = X.iloc[:n_base,:]\n",
    "    X_meta = X.iloc[n_base:(n_base + n_meta),:]\n",
    "    X_valid = X.iloc[n_models:(n_models + n_valid),:]\n",
    "    \n",
    "    y_base = y[:n_base]\n",
    "    y_meta = y[n_base:(n_base + n_meta)]\n",
    "    y_valid = y[n_models:(n_models + n_valid)]\n",
    "    \n",
    "    # Fit the base models to the base-training set, and generate predictions\n",
    "    for name, clf in base_models.items():\n",
    "        clf.fit(X_base, y_base)\n",
    "        \n",
    "        if probabilities:\n",
    "            pred_meta = clf.predict_proba(X_meta)# Generate predictions on meta-training set\n",
    "            train_predictions[f'{name}_0'] = list(pred_meta[:,0])\n",
    "            train_predictions[f'{name}_1'] = list(pred_meta[:,1])\n",
    "            \n",
    "            pred_valid = clf.predict_proba(X_valid) # Generate predictions on validation set for meta model\n",
    "            val_predictions[f'{name}_0'] = list(pred_valid[:,0])\n",
    "            val_predictions[f'{name}_1'] = list(pred_valid[:,1])\n",
    "        else:\n",
    "            pred_meta = list(clf.predict(X_meta)) # Generate predictions on meta-training set\n",
    "            train_predictions[name] = pred_meta # Append predictions to dictionary\n",
    "        \n",
    "            pred_valid = list(clf.predict(X_valid)) # Generate predictions on validation set for meta model\n",
    "            val_predictions[name] = pred_valid\n",
    "            \n",
    "        pred_valid = list(clf.predict(X_valid)) # Generate predictions on validation set for meta model\n",
    "        df_acc[name] = pd.Series(round(accuracy_score(pred_valid, y_valid), 5)) # save score of classifier\n",
    "    \n",
    "    # Transform dictionary of predictions for meta model into DataFrames        \n",
    "    df_meta_train = pd.DataFrame(train_predictions)\n",
    "    df_meta_valid = pd.DataFrame(val_predictions)\n",
    "    \n",
    "    # Train meta model using base models' predictions of meta-training set\n",
    "    meta_model.fit(df_meta_train, y_meta)\n",
    "    \n",
    "    # Generate meta model predictions of validation set\n",
    "    meta_predictions = meta_model.predict(df_meta_valid)  \n",
    "    #save_predictor(meta_predictions)\n",
    "    \n",
    "    df_acc['Stack Model'] = pd.Series(round(accuracy_score(meta_predictions, y_valid), 5)) # save score of Stack Model\n",
    "    if return_meta_args:\n",
    "        return df_acc, df_meta_train, y_meta, df_meta_valid, y_valid\n",
    "    return df_acc"
   ]
  },
  {
   "cell_type": "code",
   "execution_count": 109,
   "metadata": {},
   "outputs": [
    {
     "name": "stdout",
     "output_type": "stream",
     "text": [
      "Evaluating fold 1...\n",
      "Evaluating fold 2...\n",
      "Evaluating fold 3...\n",
      "Evaluating fold 4...\n"
     ]
    }
   ],
   "source": [
    "folds_res_1 = []\n",
    "for i,f in enumerate(folds):\n",
    "    print(f'Evaluating fold {i + 1}...')\n",
    "    folds_res_1.append(fold_scoring(*f, meta_model, base_models_1,return_meta_args=True))"
   ]
  },
  {
   "cell_type": "code",
   "execution_count": 111,
   "metadata": {},
   "outputs": [
    {
     "data": {
      "text/html": [
       "<div>\n",
       "<style scoped>\n",
       "    .dataframe tbody tr th:only-of-type {\n",
       "        vertical-align: middle;\n",
       "    }\n",
       "\n",
       "    .dataframe tbody tr th {\n",
       "        vertical-align: top;\n",
       "    }\n",
       "\n",
       "    .dataframe thead th {\n",
       "        text-align: right;\n",
       "    }\n",
       "</style>\n",
       "<table border=\"1\" class=\"dataframe\">\n",
       "  <thead>\n",
       "    <tr style=\"text-align: right;\">\n",
       "      <th></th>\n",
       "      <th>CV accuracy</th>\n",
       "      <th>Classifier</th>\n",
       "    </tr>\n",
       "  </thead>\n",
       "  <tbody>\n",
       "    <tr>\n",
       "      <th>Neural Net</th>\n",
       "      <td>0.571022</td>\n",
       "      <td>Neural Net</td>\n",
       "    </tr>\n",
       "    <tr>\n",
       "      <th>Decision Tree</th>\n",
       "      <td>0.586933</td>\n",
       "      <td>Decision Tree</td>\n",
       "    </tr>\n",
       "    <tr>\n",
       "      <th>XGBoost</th>\n",
       "      <td>0.603750</td>\n",
       "      <td>XGBoost</td>\n",
       "    </tr>\n",
       "    <tr>\n",
       "      <th>QDA</th>\n",
       "      <td>0.627955</td>\n",
       "      <td>QDA</td>\n",
       "    </tr>\n",
       "    <tr>\n",
       "      <th>Stack Model</th>\n",
       "      <td>0.630792</td>\n",
       "      <td>Stack Model</td>\n",
       "    </tr>\n",
       "    <tr>\n",
       "      <th>k Nearest Neighbors</th>\n",
       "      <td>0.633410</td>\n",
       "      <td>k Nearest Neighbors</td>\n",
       "    </tr>\n",
       "    <tr>\n",
       "      <th>Naive Bayes</th>\n",
       "      <td>0.634320</td>\n",
       "      <td>Naive Bayes</td>\n",
       "    </tr>\n",
       "    <tr>\n",
       "      <th>AdaBoost</th>\n",
       "      <td>0.635343</td>\n",
       "      <td>AdaBoost</td>\n",
       "    </tr>\n",
       "    <tr>\n",
       "      <th>SVM</th>\n",
       "      <td>0.636138</td>\n",
       "      <td>SVM</td>\n",
       "    </tr>\n",
       "    <tr>\n",
       "      <th>Random Forest</th>\n",
       "      <td>0.636363</td>\n",
       "      <td>Random Forest</td>\n",
       "    </tr>\n",
       "    <tr>\n",
       "      <th>Gradient Boosting</th>\n",
       "      <td>0.636705</td>\n",
       "      <td>Gradient Boosting</td>\n",
       "    </tr>\n",
       "    <tr>\n",
       "      <th>Ridge Classifier</th>\n",
       "      <td>0.641703</td>\n",
       "      <td>Ridge Classifier</td>\n",
       "    </tr>\n",
       "    <tr>\n",
       "      <th>Logistic Regression</th>\n",
       "      <td>0.644432</td>\n",
       "      <td>Logistic Regression</td>\n",
       "    </tr>\n",
       "  </tbody>\n",
       "</table>\n",
       "</div>"
      ],
      "text/plain": [
       "                     CV accuracy           Classifier\n",
       "Neural Net              0.571022           Neural Net\n",
       "Decision Tree           0.586933        Decision Tree\n",
       "XGBoost                 0.603750              XGBoost\n",
       "QDA                     0.627955                  QDA\n",
       "Stack Model             0.630792          Stack Model\n",
       "k Nearest Neighbors     0.633410  k Nearest Neighbors\n",
       "Naive Bayes             0.634320          Naive Bayes\n",
       "AdaBoost                0.635343             AdaBoost\n",
       "SVM                     0.636138                  SVM\n",
       "Random Forest           0.636363        Random Forest\n",
       "Gradient Boosting       0.636705    Gradient Boosting\n",
       "Ridge Classifier        0.641703     Ridge Classifier\n",
       "Logistic Regression     0.644432  Logistic Regression"
      ]
     },
     "execution_count": 111,
     "metadata": {},
     "output_type": "execute_result"
    }
   ],
   "source": [
    "acc_df_1 = pd.DataFrame(pd.concat([acc[0] for acc in folds_res_1]).mean(), columns = ['CV accuracy'])\n",
    "acc_df_1['Classifier'] = acc_df_1.index\n",
    "acc_df_1 = acc_df_1.sort_values(by=['CV accuracy'])\n",
    "acc_df_1"
   ]
  },
  {
   "cell_type": "code",
   "execution_count": 112,
   "metadata": {},
   "outputs": [
    {
     "name": "stdout",
     "output_type": "stream",
     "text": [
      "Evaluating fold 1...\n",
      "Evaluating fold 2...\n",
      "Evaluating fold 3...\n",
      "Evaluating fold 4...\n"
     ]
    }
   ],
   "source": [
    "folds_res_2 = []\n",
    "meta_model = LogisticRegression(max_iter=1000)\n",
    "for i,f in enumerate(folds):\n",
    "    print(f'Evaluating fold {i + 1}...')\n",
    "    folds_res_2.append(fold_scoring(*f, meta_model, base_models_2,return_meta_args=True))"
   ]
  },
  {
   "cell_type": "code",
   "execution_count": 113,
   "metadata": {},
   "outputs": [
    {
     "data": {
      "text/html": [
       "<div>\n",
       "<style scoped>\n",
       "    .dataframe tbody tr th:only-of-type {\n",
       "        vertical-align: middle;\n",
       "    }\n",
       "\n",
       "    .dataframe tbody tr th {\n",
       "        vertical-align: top;\n",
       "    }\n",
       "\n",
       "    .dataframe thead th {\n",
       "        text-align: right;\n",
       "    }\n",
       "</style>\n",
       "<table border=\"1\" class=\"dataframe\">\n",
       "  <thead>\n",
       "    <tr style=\"text-align: right;\">\n",
       "      <th></th>\n",
       "      <th>CV accuracy</th>\n",
       "      <th>Classifier</th>\n",
       "    </tr>\n",
       "  </thead>\n",
       "  <tbody>\n",
       "    <tr>\n",
       "      <th>QDA</th>\n",
       "      <td>0.629545</td>\n",
       "      <td>QDA</td>\n",
       "    </tr>\n",
       "    <tr>\n",
       "      <th>Gradient Boosting</th>\n",
       "      <td>0.631933</td>\n",
       "      <td>Gradient Boosting</td>\n",
       "    </tr>\n",
       "    <tr>\n",
       "      <th>Naive Bayes</th>\n",
       "      <td>0.634090</td>\n",
       "      <td>Naive Bayes</td>\n",
       "    </tr>\n",
       "    <tr>\n",
       "      <th>AdaBoost</th>\n",
       "      <td>0.635230</td>\n",
       "      <td>AdaBoost</td>\n",
       "    </tr>\n",
       "    <tr>\n",
       "      <th>SVM</th>\n",
       "      <td>0.636138</td>\n",
       "      <td>SVM</td>\n",
       "    </tr>\n",
       "    <tr>\n",
       "      <th>Ridge Classifier</th>\n",
       "      <td>0.641023</td>\n",
       "      <td>Ridge Classifier</td>\n",
       "    </tr>\n",
       "    <tr>\n",
       "      <th>Logistic Regression</th>\n",
       "      <td>0.643182</td>\n",
       "      <td>Logistic Regression</td>\n",
       "    </tr>\n",
       "    <tr>\n",
       "      <th>Stack Model</th>\n",
       "      <td>0.644092</td>\n",
       "      <td>Stack Model</td>\n",
       "    </tr>\n",
       "  </tbody>\n",
       "</table>\n",
       "</div>"
      ],
      "text/plain": [
       "                     CV accuracy           Classifier\n",
       "QDA                     0.629545                  QDA\n",
       "Gradient Boosting       0.631933    Gradient Boosting\n",
       "Naive Bayes             0.634090          Naive Bayes\n",
       "AdaBoost                0.635230             AdaBoost\n",
       "SVM                     0.636138                  SVM\n",
       "Ridge Classifier        0.641023     Ridge Classifier\n",
       "Logistic Regression     0.643182  Logistic Regression\n",
       "Stack Model             0.644092          Stack Model"
      ]
     },
     "execution_count": 113,
     "metadata": {},
     "output_type": "execute_result"
    }
   ],
   "source": [
    "acc_df_2 = pd.DataFrame(pd.concat([acc[0] for acc in folds_res_2]).mean(), columns = ['CV accuracy'])\n",
    "acc_df_2['Classifier'] = acc_df_2.index\n",
    "acc_df_2 = acc_df_2.sort_values(by=['CV accuracy'])\n",
    "acc_df_2"
   ]
  },
  {
   "cell_type": "code",
   "execution_count": 114,
   "metadata": {},
   "outputs": [
    {
     "name": "stdout",
     "output_type": "stream",
     "text": [
      "Evaluating fold 1...\n",
      "Evaluating fold 2...\n",
      "Evaluating fold 3...\n",
      "Evaluating fold 4...\n"
     ]
    }
   ],
   "source": [
    "folds_res_prob_1 = []\n",
    "meta_model = LogisticRegression(max_iter=1000)\n",
    "for i,f in enumerate(folds):\n",
    "    print(f'Evaluating fold {i + 1}...')\n",
    "    folds_res_prob_1.append(fold_scoring(*f, meta_model, base_models_prob_1,return_meta_args=True,probabilities=True))"
   ]
  },
  {
   "cell_type": "code",
   "execution_count": 115,
   "metadata": {},
   "outputs": [
    {
     "data": {
      "text/html": [
       "<div>\n",
       "<style scoped>\n",
       "    .dataframe tbody tr th:only-of-type {\n",
       "        vertical-align: middle;\n",
       "    }\n",
       "\n",
       "    .dataframe tbody tr th {\n",
       "        vertical-align: top;\n",
       "    }\n",
       "\n",
       "    .dataframe thead th {\n",
       "        text-align: right;\n",
       "    }\n",
       "</style>\n",
       "<table border=\"1\" class=\"dataframe\">\n",
       "  <thead>\n",
       "    <tr style=\"text-align: right;\">\n",
       "      <th></th>\n",
       "      <th>CV accuracy</th>\n",
       "      <th>Classifier</th>\n",
       "    </tr>\n",
       "  </thead>\n",
       "  <tbody>\n",
       "    <tr>\n",
       "      <th>XGBoost</th>\n",
       "      <td>0.603750</td>\n",
       "      <td>XGBoost</td>\n",
       "    </tr>\n",
       "    <tr>\n",
       "      <th>Random Forest</th>\n",
       "      <td>0.625000</td>\n",
       "      <td>Random Forest</td>\n",
       "    </tr>\n",
       "    <tr>\n",
       "      <th>QDA</th>\n",
       "      <td>0.627160</td>\n",
       "      <td>QDA</td>\n",
       "    </tr>\n",
       "    <tr>\n",
       "      <th>k Nearest Neighbors</th>\n",
       "      <td>0.631702</td>\n",
       "      <td>k Nearest Neighbors</td>\n",
       "    </tr>\n",
       "    <tr>\n",
       "      <th>Gradient Boosting</th>\n",
       "      <td>0.632047</td>\n",
       "      <td>Gradient Boosting</td>\n",
       "    </tr>\n",
       "    <tr>\n",
       "      <th>Naive Bayes</th>\n",
       "      <td>0.633520</td>\n",
       "      <td>Naive Bayes</td>\n",
       "    </tr>\n",
       "    <tr>\n",
       "      <th>AdaBoost</th>\n",
       "      <td>0.635570</td>\n",
       "      <td>AdaBoost</td>\n",
       "    </tr>\n",
       "    <tr>\n",
       "      <th>SVM</th>\n",
       "      <td>0.636138</td>\n",
       "      <td>SVM</td>\n",
       "    </tr>\n",
       "    <tr>\n",
       "      <th>Stack Model</th>\n",
       "      <td>0.643637</td>\n",
       "      <td>Stack Model</td>\n",
       "    </tr>\n",
       "    <tr>\n",
       "      <th>Logistic Regression</th>\n",
       "      <td>0.645000</td>\n",
       "      <td>Logistic Regression</td>\n",
       "    </tr>\n",
       "  </tbody>\n",
       "</table>\n",
       "</div>"
      ],
      "text/plain": [
       "                     CV accuracy           Classifier\n",
       "XGBoost                 0.603750              XGBoost\n",
       "Random Forest           0.625000        Random Forest\n",
       "QDA                     0.627160                  QDA\n",
       "k Nearest Neighbors     0.631702  k Nearest Neighbors\n",
       "Gradient Boosting       0.632047    Gradient Boosting\n",
       "Naive Bayes             0.633520          Naive Bayes\n",
       "AdaBoost                0.635570             AdaBoost\n",
       "SVM                     0.636138                  SVM\n",
       "Stack Model             0.643637          Stack Model\n",
       "Logistic Regression     0.645000  Logistic Regression"
      ]
     },
     "execution_count": 115,
     "metadata": {},
     "output_type": "execute_result"
    }
   ],
   "source": [
    "acc_df_prob_1 = pd.DataFrame(pd.concat([acc[0] for acc in folds_res_prob_1]).mean(), columns = ['CV accuracy'])\n",
    "acc_df_prob_1['Classifier'] = acc_df_prob_1.index\n",
    "acc_df_prob_1 = acc_df_prob_1.sort_values(by=['CV accuracy'])\n",
    "acc_df_prob_1"
   ]
  },
  {
   "cell_type": "code",
   "execution_count": 116,
   "metadata": {},
   "outputs": [
    {
     "name": "stdout",
     "output_type": "stream",
     "text": [
      "Evaluating fold 1...\n",
      "Evaluating fold 2...\n",
      "Evaluating fold 3...\n",
      "Evaluating fold 4...\n"
     ]
    }
   ],
   "source": [
    "folds_res_prob_2 = []\n",
    "meta_model = LogisticRegression(max_iter=1000)\n",
    "for i,f in enumerate(folds):\n",
    "    print(f'Evaluating fold {i + 1}...')\n",
    "    folds_res_prob_2.append(fold_scoring(*f, meta_model, base_models_prob_2,return_meta_args=True,probabilities=True))"
   ]
  },
  {
   "cell_type": "code",
   "execution_count": 117,
   "metadata": {},
   "outputs": [
    {
     "data": {
      "text/html": [
       "<div>\n",
       "<style scoped>\n",
       "    .dataframe tbody tr th:only-of-type {\n",
       "        vertical-align: middle;\n",
       "    }\n",
       "\n",
       "    .dataframe tbody tr th {\n",
       "        vertical-align: top;\n",
       "    }\n",
       "\n",
       "    .dataframe thead th {\n",
       "        text-align: right;\n",
       "    }\n",
       "</style>\n",
       "<table border=\"1\" class=\"dataframe\">\n",
       "  <thead>\n",
       "    <tr style=\"text-align: right;\">\n",
       "      <th></th>\n",
       "      <th>CV accuracy</th>\n",
       "      <th>Classifier</th>\n",
       "    </tr>\n",
       "  </thead>\n",
       "  <tbody>\n",
       "    <tr>\n",
       "      <th>Gradient Boosting</th>\n",
       "      <td>0.627387</td>\n",
       "      <td>Gradient Boosting</td>\n",
       "    </tr>\n",
       "    <tr>\n",
       "      <th>QDA</th>\n",
       "      <td>0.630343</td>\n",
       "      <td>QDA</td>\n",
       "    </tr>\n",
       "    <tr>\n",
       "      <th>Naive Bayes</th>\n",
       "      <td>0.633862</td>\n",
       "      <td>Naive Bayes</td>\n",
       "    </tr>\n",
       "    <tr>\n",
       "      <th>AdaBoost</th>\n",
       "      <td>0.634660</td>\n",
       "      <td>AdaBoost</td>\n",
       "    </tr>\n",
       "    <tr>\n",
       "      <th>SVM</th>\n",
       "      <td>0.636138</td>\n",
       "      <td>SVM</td>\n",
       "    </tr>\n",
       "    <tr>\n",
       "      <th>Stack Model</th>\n",
       "      <td>0.642500</td>\n",
       "      <td>Stack Model</td>\n",
       "    </tr>\n",
       "    <tr>\n",
       "      <th>Logistic Regression</th>\n",
       "      <td>0.643975</td>\n",
       "      <td>Logistic Regression</td>\n",
       "    </tr>\n",
       "  </tbody>\n",
       "</table>\n",
       "</div>"
      ],
      "text/plain": [
       "                     CV accuracy           Classifier\n",
       "Gradient Boosting       0.627387    Gradient Boosting\n",
       "QDA                     0.630343                  QDA\n",
       "Naive Bayes             0.633862          Naive Bayes\n",
       "AdaBoost                0.634660             AdaBoost\n",
       "SVM                     0.636138                  SVM\n",
       "Stack Model             0.642500          Stack Model\n",
       "Logistic Regression     0.643975  Logistic Regression"
      ]
     },
     "execution_count": 117,
     "metadata": {},
     "output_type": "execute_result"
    }
   ],
   "source": [
    "acc_df_prob_2 = pd.DataFrame(pd.concat([acc[0] for acc in folds_res_prob_2]).mean(), columns = ['CV accuracy'])\n",
    "acc_df_prob_2['Classifier'] = acc_df_prob_2.index\n",
    "acc_df_prob_2 = acc_df_prob_2.sort_values(by=['CV accuracy'])\n",
    "acc_df_prob_2"
   ]
  },
  {
   "cell_type": "markdown",
   "metadata": {},
   "source": [
    "# Testing meta model"
   ]
  },
  {
   "cell_type": "code",
   "execution_count": 121,
   "metadata": {},
   "outputs": [
    {
     "name": "stdout",
     "output_type": "stream",
     "text": [
      "Evaluating... Ridge Classifier\n",
      "[0.6631818181818182, 0.6372727272727273, 0.6336363636363637, 0.6409090909090909]\n",
      "accuracy 0.6438\n",
      "\n",
      "Evaluating... Random Forest\n",
      "[0.6554545454545454, 0.6322727272727273, 0.6236363636363637, 0.6309090909090909]\n",
      "accuracy 0.6356\n",
      "\n",
      "Evaluating... Gradient Boosting\n",
      "[0.6622727272727272, 0.63, 0.6209090909090909, 0.63]\n",
      "accuracy 0.6358\n",
      "\n",
      "Evaluating... Logistic Regression\n",
      "[0.6631818181818182, 0.6377272727272727, 0.6359090909090909, 0.6395454545454545]\n",
      "accuracy 0.6441\n",
      "\n",
      "Evaluating... XGBoost\n",
      "[0.6545454545454545, 0.6359090909090909, 0.6236363636363637, 0.6254545454545455]\n",
      "accuracy 0.6349\n",
      "\n",
      "Evaluating... Naive Bayes\n",
      "[0.66, 0.635, 0.6381818181818182, 0.6418181818181818]\n",
      "accuracy 0.6438\n",
      "\n",
      "Evaluating... Decision Tree\n",
      "[0.6545454545454545, 0.6327272727272727, 0.6186363636363637, 0.6295454545454545]\n",
      "accuracy 0.6339\n",
      "\n",
      "Evaluating... k Nearest Neighbors\n",
      "[0.65, 0.6227272727272727, 0.6181818181818182, 0.6181818181818182]\n",
      "accuracy 0.6273\n",
      "\n",
      "Evaluating... AdaBoost\n",
      "[0.6631818181818182, 0.6377272727272727, 0.6336363636363637, 0.6409090909090909]\n",
      "accuracy 0.6439\n",
      "\n",
      "Evaluating... Neural Net\n",
      "[0.6563636363636364, 0.6318181818181818, 0.6186363636363637, 0.6254545454545455]\n",
      "accuracy 0.6331\n",
      "\n",
      "Evaluating... QDA\n",
      "[0.6581818181818182, 0.6286363636363637, 0.6263636363636363, 0.6331818181818182]\n",
      "accuracy 0.6366\n",
      "\n",
      "Evaluating... SVM\n",
      "[0.6590909090909091, 0.6309090909090909, 0.62, 0.6259090909090909]\n",
      "accuracy 0.6340\n",
      "\n"
     ]
    }
   ],
   "source": [
    "for name, classifier in classifiers.items():\n",
    "    print(\"Evaluating...\",name)\n",
    "    scores = []\n",
    "    for fold in folds_res_2:\n",
    "        clf = classifier\n",
    "        clf.fit(fold[1],fold[2])\n",
    "        pred = clf.predict(fold[3])\n",
    "        scores.append(accuracy_score(pred, fold[4]))\n",
    "    print(scores)\n",
    "    print(f'accuracy {sum(scores)/4:.4f}')\n",
    "    print()"
   ]
  },
  {
   "cell_type": "code",
   "execution_count": 145,
   "metadata": {},
   "outputs": [
    {
     "name": "stdout",
     "output_type": "stream",
     "text": [
      "Evaluating... Ridge Classifier\n",
      "[0.6618181818181819, 0.63, 0.6331818181818182, 0.6463636363636364]\n",
      "accuracy 0.6428\n",
      "\n",
      "Evaluating... Random Forest\n",
      "[0.6468181818181818, 0.6245454545454545, 0.6418181818181818, 0.6131818181818182]\n",
      "accuracy 0.6316\n",
      "\n",
      "Evaluating... Gradient Boosting\n",
      "[0.66, 0.6295454545454545, 0.6354545454545455, 0.645]\n",
      "accuracy 0.6425\n",
      "\n",
      "Evaluating... Logistic Regression\n",
      "[0.6631818181818182, 0.6309090909090909, 0.6336363636363637, 0.6468181818181818]\n",
      "accuracy 0.6436\n",
      "\n",
      "Evaluating... XGBoost\n",
      "[0.6409090909090909, 0.6004545454545455, 0.6190909090909091, 0.6140909090909091]\n",
      "accuracy 0.6186\n",
      "\n",
      "Evaluating... Naive Bayes\n",
      "[0.6568181818181819, 0.6336363636363637, 0.6354545454545455, 0.6518181818181819]\n",
      "accuracy 0.6444\n",
      "\n",
      "Evaluating... Decision Tree\n",
      "[0.5736363636363636, 0.5654545454545454, 0.5768181818181818, 0.5409090909090909]\n",
      "accuracy 0.5642\n",
      "\n",
      "Evaluating... k Nearest Neighbors\n",
      "[0.6204545454545455, 0.59, 0.600909090909091, 0.5940909090909091]\n",
      "accuracy 0.6014\n",
      "\n",
      "Evaluating... AdaBoost\n",
      "[0.6522727272727272, 0.635, 0.6381818181818182, 0.6363636363636364]\n",
      "accuracy 0.6405\n",
      "\n",
      "Evaluating... Neural Net\n",
      "[0.6577272727272727, 0.6309090909090909, 0.6386363636363637, 0.6513636363636364]\n",
      "accuracy 0.6447\n",
      "\n",
      "Evaluating... QDA\n",
      "[0.5686363636363636, 0.5104545454545455, 0.5422727272727272, 0.5963636363636363]\n",
      "accuracy 0.5544\n",
      "\n",
      "Evaluating... SVM\n"
     ]
    },
    {
     "name": "stderr",
     "output_type": "stream",
     "text": [
      "/home/piopie/anaconda3/lib/python3.8/site-packages/sklearn/discriminant_analysis.py:878: UserWarning: Variables are collinear\n",
      "  warnings.warn(\"Variables are collinear\")\n",
      "/home/piopie/anaconda3/lib/python3.8/site-packages/sklearn/discriminant_analysis.py:878: UserWarning: Variables are collinear\n",
      "  warnings.warn(\"Variables are collinear\")\n",
      "/home/piopie/anaconda3/lib/python3.8/site-packages/sklearn/discriminant_analysis.py:878: UserWarning: Variables are collinear\n",
      "  warnings.warn(\"Variables are collinear\")\n",
      "/home/piopie/anaconda3/lib/python3.8/site-packages/sklearn/discriminant_analysis.py:878: UserWarning: Variables are collinear\n",
      "  warnings.warn(\"Variables are collinear\")\n"
     ]
    },
    {
     "name": "stdout",
     "output_type": "stream",
     "text": [
      "[0.6545454545454545, 0.6322727272727273, 0.6277272727272727, 0.65]\n",
      "accuracy 0.6411\n",
      "\n"
     ]
    }
   ],
   "source": [
    "for name, classifier in classifiers.items():\n",
    "    print(\"Evaluating...\",name)\n",
    "    scores = []\n",
    "    for fold in folds_res_prob_1:\n",
    "        clf = classifier\n",
    "        clf.fit(fold[1],fold[2])\n",
    "        pred = clf.predict(fold[3])\n",
    "        scores.append(accuracy_score(pred, fold[4]))\n",
    "    print(scores)\n",
    "    print(f'accuracy {sum(scores)/4:.4f}')\n",
    "    print()"
   ]
  },
  {
   "cell_type": "markdown",
   "metadata": {},
   "source": [
    "# Can we prune our data to get better accuracy?"
   ]
  },
  {
   "cell_type": "markdown",
   "metadata": {},
   "source": [
    "## How much data will we prune?"
   ]
  },
  {
   "cell_type": "code",
   "execution_count": 132,
   "metadata": {},
   "outputs": [],
   "source": [
    "def get_indexes(pred_prob, prob=0.7):\n",
    "    indexes = []\n",
    "    for i in range(pred_prob.shape[0]):\n",
    "        if pred_prob[i,0] >= prob or pred_prob[i,1] >= prob:\n",
    "            indexes.append(i)\n",
    "    return indexes"
   ]
  },
  {
   "cell_type": "code",
   "execution_count": 133,
   "metadata": {},
   "outputs": [],
   "source": [
    "def get_indexes_fold(fold, prob=0.7):\n",
    "    indexes = []\n",
    "    for i in range(fold.shape[0]):\n",
    "        if fold.iloc[i,0] >= prob or fold.iloc[i,1] >= prob:\n",
    "            indexes.append(i)\n",
    "    return indexes"
   ]
  },
  {
   "cell_type": "code",
   "execution_count": 140,
   "metadata": {},
   "outputs": [
    {
     "name": "stdout",
     "output_type": "stream",
     "text": [
      "probability 0.55\n",
      "accuracy 0.6720\n",
      "take into account 0.8313 matches\n",
      "\n",
      "probability 0.6\n",
      "accuracy 0.7057\n",
      "take into account 0.6685 matches\n",
      "\n",
      "probability 0.65\n",
      "accuracy 0.7330\n",
      "take into account 0.5209 matches\n",
      "\n",
      "probability 0.7\n",
      "accuracy 0.7675\n",
      "take into account 0.3793 matches\n",
      "\n",
      "probability 0.75\n",
      "accuracy 0.7984\n",
      "take into account 0.2547 matches\n",
      "\n",
      "probability 0.8\n",
      "accuracy 0.8474\n",
      "take into account 0.1366 matches\n",
      "\n"
     ]
    }
   ],
   "source": [
    "for prob in [0.55, 0.6, 0.65, 0.70, 0.75, 0.8]:\n",
    "    scores=[]\n",
    "    account=[]\n",
    "    print('probability', prob)\n",
    "    for fold in folds_res_prob_2:\n",
    "        clf = LogisticRegression(max_iter=1000)\n",
    "        clf.fit(fold[1],fold[2])\n",
    "        indexes = get_indexes(clf.predict_proba(fold[3]), prob)\n",
    "        account.append(len(indexes) / fold[3].shape[0])\n",
    "        pred = clf.predict(fold[3].iloc[indexes])\n",
    "        scores.append(accuracy_score(pred, fold[4][indexes]))\n",
    "    #print(scores)\n",
    "    print(f'accuracy {sum(scores)/4:.4f}')\n",
    "    print(f'take into account {sum(account)/4:.4f} matches')\n",
    "    print()"
   ]
  },
  {
   "cell_type": "code",
   "execution_count": 142,
   "metadata": {},
   "outputs": [
    {
     "name": "stdout",
     "output_type": "stream",
     "text": [
      "probability 0.55\n",
      "accuracy 0.6684\n",
      "take into account 0.8353 matches\n",
      "\n",
      "probability 0.6\n",
      "accuracy 0.6937\n",
      "take into account 0.6654 matches\n",
      "\n",
      "probability 0.65\n",
      "accuracy 0.7286\n",
      "take into account 0.5125 matches\n",
      "\n",
      "probability 0.7\n",
      "accuracy 0.7603\n",
      "take into account 0.3794 matches\n",
      "\n",
      "probability 0.75\n",
      "accuracy 0.7917\n",
      "take into account 0.2700 matches\n",
      "\n",
      "probability 0.8\n",
      "accuracy 0.8182\n",
      "take into account 0.1789 matches\n",
      "\n"
     ]
    }
   ],
   "source": [
    "for prob in [0.55, 0.6, 0.65, 0.70, 0.75, 0.8]:\n",
    "    scores=[]\n",
    "    account=[]\n",
    "    print('probability', prob)\n",
    "    for train_index, test_index in ts_cv.split(X_std):\n",
    "        X_train, X_test = X_std.iloc[train_index], X_std.iloc[test_index]\n",
    "        y_train, y_test = y[train_index], y[test_index]\n",
    "        clf = LogisticRegression(max_iter=1000)\n",
    "        clf.fit(X_train, y_train)\n",
    "        indexes = get_indexes(clf.predict_proba(X_test), prob)\n",
    "        account.append(len(indexes) / X_test.shape[0])\n",
    "        pred = clf.predict(X_test.iloc[indexes])\n",
    "        scores.append(accuracy_score(pred, y_test[indexes]))\n",
    "    #print(scores)\n",
    "    print(f'accuracy {sum(scores)/4:.4f}')\n",
    "    print(f'take into account {sum(account)/4:.4f} matches')\n",
    "    print()"
   ]
  },
  {
   "cell_type": "markdown",
   "metadata": {},
   "source": [
    "# Fancy plots"
   ]
  },
  {
   "cell_type": "code",
   "execution_count": 128,
   "metadata": {},
   "outputs": [
    {
     "data": {
      "text/plain": [
       "<matplotlib.axes._subplots.AxesSubplot at 0x7fe0e13b7eb0>"
      ]
     },
     "execution_count": 128,
     "metadata": {},
     "output_type": "execute_result"
    },
    {
     "data": {
      "image/png": "[encoded data removed]",
      "text/plain": [
       "<Figure size 1080x720 with 1 Axes>"
      ]
     },
     "metadata": {
      "needs_background": "light"
     },
     "output_type": "display_data"
    }
   ],
   "source": [
    "v = cm.get_cmap('viridis')\n",
    "colors = v(np.linspace(0, 1, acc_df_1.shape[0] + 4))\n",
    "fig, ax0 = plt.subplots(figsize=(15, 10))\n",
    "acc_df_1.plot.bar(x = 'Classifier', y='CV accuracy', ax = ax0, color = colors)"
   ]
  },
  {
   "cell_type": "markdown",
   "metadata": {},
   "source": [
    "# FINAL MODEL"
   ]
  },
  {
   "cell_type": "code",
   "execution_count": 146,
   "metadata": {},
   "outputs": [],
   "source": [
    "# saved tuned models (reset these models)\n",
    "best_models = {\n",
    "    'Ridge Classifier' : Pipeline(steps=[('pca', PCA(n_components=180)),\n",
    "                ('classifier', RidgeClassifier(alpha=13.0))]),\n",
    "    \n",
    "    'Random Forest' : RandomForestClassifier(max_features=6),\n",
    "    \n",
    "    'Gradient Boosting' : GradientBoostingClassifier(learning_rate=0.05, max_depth=7),\n",
    "    \n",
    "    'Logistic Regression' : Pipeline(steps=[('pca', PCA(n_components=70)),\n",
    "                ('classifier', LogisticRegression(C=0.1, max_iter=1000))]),\n",
    "    \n",
    "    'XGBoost': XGBClassifier(use_label_encoder=False, eval_metric='rmse', learning_rate = 0.6, max_depth = 6, min_child_weight = 1, n_estimators = 100),\n",
    "    \n",
    "    'Naive Bayes' : Pipeline(steps=[('pca', PCA(n_components=90)), ('classifier', GaussianNB(var_smoothing = 0.0379))]),\n",
    "    \n",
    "    'Decision Tree' : DecisionTreeClassifier(criterion='entropy', max_depth=10, min_samples_leaf=3),\n",
    "    \n",
    "    'k Nearest Neighbors' : Pipeline(steps=[('pca', PCA(n_components=70)),\n",
    "                ('classifier',\n",
    "                 KNeighborsClassifier(metric='minkowski', n_neighbors=80,\n",
    "                                      weights='distance'))]),\n",
    "    \n",
    "    'AdaBoost' :  Pipeline(steps=[('classifier', AdaBoostClassifier(n_estimators=500, learning_rate = 0.1))]),\n",
    "    \n",
    "    'Neural Net' :  Pipeline(steps=[('pca', PCA()),\n",
    "                ('classifier', MLPClassifier(max_iter=1000, activation = 'tanh', \n",
    "                                alpha = 0.0001, learning_rate = 'adaptive', solver = 'adam'))]),\n",
    "    \n",
    "    \"QDA\" : Pipeline(steps=[('pca', PCA(n_components=70)), ('classifier', QuadraticDiscriminantAnalysis(reg_param=0.5))]),\n",
    "    \n",
    "    \"SVM\" : Pipeline(steps=[('classifier', SVC(C=1.0, kernel='rbf'))]),\n",
    "}"
   ]
  },
  {
   "cell_type": "code",
   "execution_count": 147,
   "metadata": {},
   "outputs": [],
   "source": [
    "base_models_prob_1 = {\n",
    "    'Logistic Regression' : best_models['Logistic Regression'],\n",
    "    'Random Forest' : best_models['Random Forest'],\n",
    "    'Gradient Boosting' : best_models['Gradient Boosting'],\n",
    "    'XGBoost': best_models['XGBoost'],\n",
    "    'Naive Bayes' : best_models['Naive Bayes'],\n",
    "    'k Nearest Neighbors' : best_models['k Nearest Neighbors'],\n",
    "    'AdaBoost' : best_models['AdaBoost'],\n",
    "    \"QDA\" : best_models['QDA'],\n",
    "    \"SVM\" : SVC(C=1.0, kernel='rbf', probability=True)\n",
    "}"
   ]
  },
  {
   "cell_type": "code",
   "execution_count": 149,
   "metadata": {},
   "outputs": [
    {
     "name": "stdout",
     "output_type": "stream",
     "text": [
      "Evaluating fold 1...\n",
      "Evaluating fold 2...\n",
      "Evaluating fold 3...\n",
      "Evaluating fold 4...\n"
     ]
    }
   ],
   "source": [
    "folds_final = []\n",
    "meta_model = LogisticRegression(max_iter=1000)\n",
    "for i,f in enumerate(folds):\n",
    "    print(f'Evaluating fold {i + 1}...')\n",
    "    folds_final.append(fold_scoring(*f, meta_model, base_models_prob_1,return_meta_args=True,probabilities=True))"
   ]
  },
  {
   "cell_type": "code",
   "execution_count": 150,
   "metadata": {},
   "outputs": [
    {
     "data": {
      "text/html": [
       "<div>\n",
       "<style scoped>\n",
       "    .dataframe tbody tr th:only-of-type {\n",
       "        vertical-align: middle;\n",
       "    }\n",
       "\n",
       "    .dataframe tbody tr th {\n",
       "        vertical-align: top;\n",
       "    }\n",
       "\n",
       "    .dataframe thead th {\n",
       "        text-align: right;\n",
       "    }\n",
       "</style>\n",
       "<table border=\"1\" class=\"dataframe\">\n",
       "  <thead>\n",
       "    <tr style=\"text-align: right;\">\n",
       "      <th></th>\n",
       "      <th>CV accuracy</th>\n",
       "      <th>Classifier</th>\n",
       "    </tr>\n",
       "  </thead>\n",
       "  <tbody>\n",
       "    <tr>\n",
       "      <th>XGBoost</th>\n",
       "      <td>0.603750</td>\n",
       "      <td>XGBoost</td>\n",
       "    </tr>\n",
       "    <tr>\n",
       "      <th>Random Forest</th>\n",
       "      <td>0.624090</td>\n",
       "      <td>Random Forest</td>\n",
       "    </tr>\n",
       "    <tr>\n",
       "      <th>Gradient Boosting</th>\n",
       "      <td>0.628750</td>\n",
       "      <td>Gradient Boosting</td>\n",
       "    </tr>\n",
       "    <tr>\n",
       "      <th>QDA</th>\n",
       "      <td>0.631250</td>\n",
       "      <td>QDA</td>\n",
       "    </tr>\n",
       "    <tr>\n",
       "      <th>k Nearest Neighbors</th>\n",
       "      <td>0.632840</td>\n",
       "      <td>k Nearest Neighbors</td>\n",
       "    </tr>\n",
       "    <tr>\n",
       "      <th>Naive Bayes</th>\n",
       "      <td>0.634320</td>\n",
       "      <td>Naive Bayes</td>\n",
       "    </tr>\n",
       "    <tr>\n",
       "      <th>AdaBoost</th>\n",
       "      <td>0.635343</td>\n",
       "      <td>AdaBoost</td>\n",
       "    </tr>\n",
       "    <tr>\n",
       "      <th>SVM</th>\n",
       "      <td>0.636138</td>\n",
       "      <td>SVM</td>\n",
       "    </tr>\n",
       "    <tr>\n",
       "      <th>Stack Model</th>\n",
       "      <td>0.642840</td>\n",
       "      <td>Stack Model</td>\n",
       "    </tr>\n",
       "    <tr>\n",
       "      <th>Logistic Regression</th>\n",
       "      <td>0.644205</td>\n",
       "      <td>Logistic Regression</td>\n",
       "    </tr>\n",
       "  </tbody>\n",
       "</table>\n",
       "</div>"
      ],
      "text/plain": [
       "                     CV accuracy           Classifier\n",
       "XGBoost                 0.603750              XGBoost\n",
       "Random Forest           0.624090        Random Forest\n",
       "Gradient Boosting       0.628750    Gradient Boosting\n",
       "QDA                     0.631250                  QDA\n",
       "k Nearest Neighbors     0.632840  k Nearest Neighbors\n",
       "Naive Bayes             0.634320          Naive Bayes\n",
       "AdaBoost                0.635343             AdaBoost\n",
       "SVM                     0.636138                  SVM\n",
       "Stack Model             0.642840          Stack Model\n",
       "Logistic Regression     0.644205  Logistic Regression"
      ]
     },
     "execution_count": 150,
     "metadata": {},
     "output_type": "execute_result"
    }
   ],
   "source": [
    "acc_df_final = pd.DataFrame(pd.concat([acc[0] for acc in folds_final]).mean(), columns = ['CV accuracy'])\n",
    "acc_df_final['Classifier'] = acc_df_final.index\n",
    "acc_df_final = acc_df_final.sort_values(by=['CV accuracy'])\n",
    "acc_df_final"
   ]
  },
  {
   "cell_type": "code",
   "execution_count": 151,
   "metadata": {},
   "outputs": [
    {
     "data": {
      "text/plain": [
       "<matplotlib.axes._subplots.AxesSubplot at 0x7fe0ddc34040>"
      ]
     },
     "execution_count": 151,
     "metadata": {},
     "output_type": "execute_result"
    },
    {
     "data": {
      "image/png": "[encoded data removed]",
      "text/plain": [
       "<Figure size 1080x720 with 1 Axes>"
      ]
     },
     "metadata": {
      "needs_background": "light"
     },
     "output_type": "display_data"
    }
   ],
   "source": [
    "v = cm.get_cmap('viridis')\n",
    "colors = v(np.linspace(0, 1, acc_df_1.shape[0] + 4))\n",
    "fig, ax0 = plt.subplots(figsize=(15, 10))\n",
    "acc_df_1.plot.bar(x = 'Classifier', y='CV accuracy', ax = ax0, color = colors)"
   ]
  },
  {
   "cell_type": "code",
   "execution_count": 152,
   "metadata": {},
   "outputs": [],
   "source": [
    "for i,fold in enumerate(folds_final):\n",
    "    fold[1].to_csv(f'predictions\\X_train_{i}.csv', index=False)\n",
    "    np.save(f'predictions\\y_train_{i}.npy', fold[2])\n",
    "    fold[3].to_csv(f'predictions\\X_test_{i}.csv', index=False)\n",
    "    np.save(f'predictions\\y_test_{i}.npy', fold[4])"
   ]
  },
  {
   "cell_type": "code",
   "execution_count": null,
   "metadata": {},
   "outputs": [],
   "source": []
  }
 ],
 "metadata": {
  "kernelspec": {
   "display_name": "Python 3",
   "language": "python",
   "name": "python3"
  },
  "language_info": {
   "codemirror_mode": {
    "name": "ipython",
    "version": 3
   },
   "file_extension": ".py",
   "mimetype": "text/x-python",
   "name": "python",
   "nbconvert_exporter": "python",
   "pygments_lexer": "ipython3",
   "version": "3.8.3"
  }
 },
 "nbformat": 4,
 "nbformat_minor": 4
}
